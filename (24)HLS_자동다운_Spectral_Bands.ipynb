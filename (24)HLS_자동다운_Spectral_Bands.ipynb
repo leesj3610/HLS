{
 "cells": [
  {
   "cell_type": "code",
   "execution_count": 48,
   "id": "2d5dcd40-d73b-4e84-828a-b81209eb5cef",
   "metadata": {
    "editable": true,
    "slideshow": {
     "slide_type": ""
    },
    "tags": []
   },
   "outputs": [],
   "source": [
    "import os\n",
    "from datetime import datetime\n",
    "import requests as r\n",
    "import numpy as np\n",
    "import pandas as pd\n",
    "import geopandas as gp\n",
    "from skimage import io\n",
    "import matplotlib.pyplot as plt\n",
    "from osgeo import gdal\n",
    "import rasterio as rio\n",
    "import xarray as xr\n",
    "import rioxarray as rxr\n",
    "import rioxarray\n",
    "import hvplot.xarray\n",
    "import hvplot.pandas\n",
    "import json\n",
    "import panel as pn\n",
    "import geoviews\n",
    "import earthaccess\n",
    "from rasterio.enums import ColorInterp\n",
    "from rasterio.mask import mask\n",
    "from rasterio.warp import Resampling\n",
    "from shapely.geometry import Polygon\n",
    "from shapely.ops import transform\n",
    "from tqdm.auto import tqdm\n",
    "import cupy as cp\n",
    "import time\n",
    "import nasa_hls\n",
    "# There are a couple plots that generate errors that we want to ignore.\n",
    "import warnings\n",
    "warnings.filterwarnings('ignore')"
   ]
  },
  {
   "cell_type": "code",
   "execution_count": 2,
   "id": "c1d03ab1-8ce2-4c53-af0a-fe769c4ab3e5",
   "metadata": {
    "editable": true,
    "slideshow": {
     "slide_type": ""
    },
    "tags": []
   },
   "outputs": [
    {
     "data": {
      "text/plain": [
       "<earthaccess.auth.Auth at 0x1dffc3a99f0>"
      ]
     },
     "execution_count": 2,
     "metadata": {},
     "output_type": "execute_result"
    }
   ],
   "source": [
    "earthaccess.login(persist=True)"
   ]
  },
  {
   "cell_type": "code",
   "execution_count": 3,
   "id": "8b8ac977-babc-4629-bc94-7610a57a20bc",
   "metadata": {
    "editable": true,
    "slideshow": {
     "slide_type": ""
    },
    "tags": []
   },
   "outputs": [
    {
     "data": {
      "text/html": [
       "<div>\n",
       "<style scoped>\n",
       "    .dataframe tbody tr th:only-of-type {\n",
       "        vertical-align: middle;\n",
       "    }\n",
       "\n",
       "    .dataframe tbody tr th {\n",
       "        vertical-align: top;\n",
       "    }\n",
       "\n",
       "    .dataframe thead th {\n",
       "        text-align: right;\n",
       "    }\n",
       "</style>\n",
       "<table border=\"1\" class=\"dataframe\">\n",
       "  <thead>\n",
       "    <tr style=\"text-align: right;\">\n",
       "      <th></th>\n",
       "      <th>dissolve</th>\n",
       "      <th>geometry</th>\n",
       "    </tr>\n",
       "  </thead>\n",
       "  <tbody>\n",
       "    <tr>\n",
       "      <th>0</th>\n",
       "      <td>1.0</td>\n",
       "      <td>MULTIPOLYGON (((126.26475 33.11572, 126.26476 ...</td>\n",
       "    </tr>\n",
       "  </tbody>\n",
       "</table>\n",
       "</div>"
      ],
      "text/plain": [
       "   dissolve                                           geometry\n",
       "0       1.0  MULTIPOLYGON (((126.26475 33.11572, 126.26476 ..."
      ]
     },
     "execution_count": 3,
     "metadata": {},
     "output_type": "execute_result"
    }
   ],
   "source": [
    "field = gp.read_file('G:/2024_활동지도/행정경계/korea.shp')\n",
    "field"
   ]
  },
  {
   "cell_type": "code",
   "execution_count": 4,
   "id": "f80e14a7-865d-4bac-b6d3-29ca925cf278",
   "metadata": {},
   "outputs": [],
   "source": [
    "grid = gp.read_file('G:/grid/fin/S2A_OPER_GRID_utm.shp')\n",
    "grid = grid[['Name', 'geometry']]\n",
    "tile = grid['Name']\n",
    "granule_names = list(tile)"
   ]
  },
  {
   "cell_type": "code",
   "execution_count": 5,
   "id": "e4a0aa70-a285-41e2-9504-a71e75d54617",
   "metadata": {
    "editable": true,
    "slideshow": {
     "slide_type": ""
    },
    "tags": []
   },
   "outputs": [
    {
     "data": {
      "text/plain": [
       "(124.60971767857728, 33.1123557596338, 131.87278314808853, 38.61370930257595)"
      ]
     },
     "execution_count": 5,
     "metadata": {},
     "output_type": "execute_result"
    }
   ],
   "source": [
    "bbox = tuple(list(field.total_bounds))\n",
    "bbox"
   ]
  },
  {
   "cell_type": "code",
   "execution_count": 6,
   "id": "2891e305-64f8-4c30-a8b0-baae38fdd816",
   "metadata": {},
   "outputs": [],
   "source": [
    "year = '2024'"
   ]
  },
  {
   "cell_type": "code",
   "execution_count": 7,
   "id": "2a2b66ff-8d81-42a2-a3b3-54416bce85ce",
   "metadata": {
    "editable": true,
    "slideshow": {
     "slide_type": ""
    },
    "tags": []
   },
   "outputs": [],
   "source": [
    "temporal = (f\"{year}-05-01T00:00:00\", f\"{year}-06-15T23:59:59\")"
   ]
  },
  {
   "cell_type": "code",
   "execution_count": 8,
   "id": "21b7c258-6231-4b16-bf18-72033c2e42f2",
   "metadata": {},
   "outputs": [
    {
     "data": {
      "text/plain": [
       "<function earthaccess.api.search_data(count: int = -1, **kwargs: typing_extensions.Any) -> List[earthaccess.results.DataGranule]>"
      ]
     },
     "execution_count": 8,
     "metadata": {},
     "output_type": "execute_result"
    }
   ],
   "source": [
    "earthaccess.search_data"
   ]
  },
  {
   "cell_type": "code",
   "execution_count": 9,
   "id": "f79d0d02-5952-454e-ab79-201ad8fb8c1d",
   "metadata": {
    "editable": true,
    "slideshow": {
     "slide_type": ""
    },
    "tags": []
   },
   "outputs": [
    {
     "data": {
      "application/vnd.jupyter.widget-view+json": {
       "model_id": "c96bf95d2b2c4a2087aa528b8bd0cd30",
       "version_major": 2,
       "version_minor": 0
      },
      "text/plain": [
       "  0%|          | 0/36 [00:00<?, ?it/s]"
      ]
     },
     "metadata": {},
     "output_type": "display_data"
    },
    {
     "name": "stdout",
     "output_type": "stream",
     "text": [
      "Granule '51SXB' - 검색된 개수: 8\n",
      "Granule '51SXC' - 검색된 개수: 9\n",
      "Granule '51SXT' - 검색된 개수: 12\n",
      "Granule '51SYA' - 검색된 개수: 15\n",
      "Granule '51SYB' - 검색된 개수: 14\n",
      "Granule '51SYC' - 검색된 개수: 19\n",
      "Granule '51SYS' - 검색된 개수: 13\n",
      "Granule '51SYT' - 검색된 개수: 13\n",
      "Granule '51SYU' - 검색된 개수: 18\n",
      "Granule '51SYV' - 검색된 개수: 12\n",
      "Granule '52SBB' - 검색된 개수: 14\n",
      "Granule '52SBC' - 검색된 개수: 7\n",
      "Granule '52SBD' - 검색된 개수: 10\n",
      "Granule '52SBE' - 검색된 개수: 15\n",
      "Granule '52SBF' - 검색된 개수: 16\n",
      "Granule '52SBG' - 검색된 개수: 13\n",
      "Granule '52SBH' - 검색된 개수: 19\n",
      "Granule '52SCB' - 검색된 개수: 14\n",
      "Granule '52SCC' - 검색된 개수: 14\n",
      "Granule '52SCD' - 검색된 개수: 19\n",
      "Granule '52SCE' - 검색된 개수: 18\n",
      "Granule '52SCF' - 검색된 개수: 18\n",
      "Granule '52SCG' - 검색된 개수: 14\n",
      "Granule '52SCH' - 검색된 개수: 21\n",
      "Granule '52SDD' - 검색된 개수: 15\n",
      "Granule '52SDE' - 검색된 개수: 18\n",
      "Granule '52SDF' - 검색된 개수: 18\n",
      "Granule '52SDG' - 검색된 개수: 18\n",
      "Granule '52SDH' - 검색된 개수: 24\n",
      "Granule '52SED' - 검색된 개수: 14\n",
      "Granule '52SEE' - 검색된 개수: 16\n",
      "Granule '52SEF' - 검색된 개수: 18\n",
      "Granule '52SEG' - 검색된 개수: 22\n",
      "Granule '52SFG' - 검색된 개수: 16\n",
      "Granule '52SGG' - 검색된 개수: 12\n",
      "Granule '53SKB' - 검색된 개수: 13\n"
     ]
    }
   ],
   "source": [
    "results = []\n",
    "\n",
    "for name in tqdm(granule_names):\n",
    "    result = earthaccess.search_data(\n",
    "        short_name=['HLSL30', 'HLSS30'],\n",
    "        bounding_box=bbox,\n",
    "        temporal=temporal,\n",
    "        count=100,\n",
    "        cloud_cover=(0, 50),\n",
    "        granule_name=f'*{name}*'  # 와일드카드로 granule_name에 해당하는 패턴 검색\n",
    "    )\n",
    "    print(f\"Granule '{name}' - 검색된 개수: {len(result)}\")\n",
    "    results.extend(result)  # 결과를 results 리스트에 추가"
   ]
  },
  {
   "cell_type": "code",
   "execution_count": 129,
   "id": "e7c0b17e-0f86-4a88-91ca-29ba2240f677",
   "metadata": {
    "editable": true,
    "slideshow": {
     "slide_type": ""
    },
    "tags": []
   },
   "outputs": [
    {
     "data": {
      "text/html": [
       "<div>\n",
       "<style scoped>\n",
       "    .dataframe tbody tr th:only-of-type {\n",
       "        vertical-align: middle;\n",
       "    }\n",
       "\n",
       "    .dataframe tbody tr th {\n",
       "        vertical-align: top;\n",
       "    }\n",
       "\n",
       "    .dataframe thead th {\n",
       "        text-align: right;\n",
       "    }\n",
       "</style>\n",
       "<table border=\"1\" class=\"dataframe\">\n",
       "  <thead>\n",
       "    <tr style=\"text-align: right;\">\n",
       "      <th></th>\n",
       "      <th>size</th>\n",
       "      <th>meta.concept-type</th>\n",
       "      <th>meta.concept-id</th>\n",
       "      <th>meta.revision-id</th>\n",
       "      <th>meta.native-id</th>\n",
       "      <th>meta.collection-concept-id</th>\n",
       "      <th>meta.provider-id</th>\n",
       "      <th>meta.format</th>\n",
       "      <th>meta.revision-date</th>\n",
       "      <th>umm.TemporalExtent.RangeDateTime.BeginningDateTime</th>\n",
       "      <th>...</th>\n",
       "      <th>umm.CollectionReference.EntryTitle</th>\n",
       "      <th>umm.RelatedUrls</th>\n",
       "      <th>umm.DataGranule.DayNightFlag</th>\n",
       "      <th>umm.DataGranule.Identifiers</th>\n",
       "      <th>umm.DataGranule.ProductionDateTime</th>\n",
       "      <th>umm.DataGranule.ArchiveAndDistributionInformation</th>\n",
       "      <th>umm.Platforms</th>\n",
       "      <th>umm.MetadataSpecification.URL</th>\n",
       "      <th>umm.MetadataSpecification.Name</th>\n",
       "      <th>umm.MetadataSpecification.Version</th>\n",
       "    </tr>\n",
       "  </thead>\n",
       "  <tbody>\n",
       "    <tr>\n",
       "      <th>0</th>\n",
       "      <td>157.224716</td>\n",
       "      <td>granule</td>\n",
       "      <td>G2991239576-LPCLOUD</td>\n",
       "      <td>1</td>\n",
       "      <td>HLS.L30.T51SXB.2024129T021650.v2.0</td>\n",
       "      <td>C2021957657-LPCLOUD</td>\n",
       "      <td>LPCLOUD</td>\n",
       "      <td>application/echo10+xml</td>\n",
       "      <td>2024-05-10T07:24:06.306Z</td>\n",
       "      <td>2024-05-08T02:16:50.544Z</td>\n",
       "      <td>...</td>\n",
       "      <td>HLS Landsat Operational Land Imager Surface Re...</td>\n",
       "      <td>[{'URL': 'https://data.lpdaac.earthdatacloud.n...</td>\n",
       "      <td>Day</td>\n",
       "      <td>[{'Identifier': 'HLS.L30.T51SXB.2024129T021650...</td>\n",
       "      <td>2024-05-10T07:19:37.000Z</td>\n",
       "      <td>[{'Name': 'Not provided', 'SizeInBytes': 16486...</td>\n",
       "      <td>[{'ShortName': 'LANDSAT-9', 'Instruments': [{'...</td>\n",
       "      <td>https://cdn.earthdata.nasa.gov/umm/granule/v1.6.6</td>\n",
       "      <td>UMM-G</td>\n",
       "      <td>1.6.6</td>\n",
       "    </tr>\n",
       "    <tr>\n",
       "      <th>1</th>\n",
       "      <td>154.965186</td>\n",
       "      <td>granule</td>\n",
       "      <td>G2995057181-LPCLOUD</td>\n",
       "      <td>1</td>\n",
       "      <td>HLS.S30.T51SXB.2024130T022551.v2.0</td>\n",
       "      <td>C2021957295-LPCLOUD</td>\n",
       "      <td>LPCLOUD</td>\n",
       "      <td>application/echo10+xml</td>\n",
       "      <td>2024-05-11T07:32:05.234Z</td>\n",
       "      <td>2024-05-09T02:37:19.606Z</td>\n",
       "      <td>...</td>\n",
       "      <td>HLS Sentinel-2 Multi-spectral Instrument Surfa...</td>\n",
       "      <td>[{'URL': 'https://data.lpdaac.earthdatacloud.n...</td>\n",
       "      <td>Day</td>\n",
       "      <td>[{'Identifier': 'HLS.S30.T51SXB.2024130T022551...</td>\n",
       "      <td>2024-05-11T07:27:07.000Z</td>\n",
       "      <td>[{'Name': 'Not provided', 'SizeInBytes': 16249...</td>\n",
       "      <td>[{'ShortName': 'Sentinel-2A', 'Instruments': [...</td>\n",
       "      <td>https://cdn.earthdata.nasa.gov/umm/granule/v1.6.6</td>\n",
       "      <td>UMM-G</td>\n",
       "      <td>1.6.6</td>\n",
       "    </tr>\n",
       "    <tr>\n",
       "      <th>2</th>\n",
       "      <td>160.627707</td>\n",
       "      <td>granule</td>\n",
       "      <td>G3008961922-LPCLOUD</td>\n",
       "      <td>1</td>\n",
       "      <td>HLS.S30.T51SXB.2024135T022529.v2.0</td>\n",
       "      <td>C2021957295-LPCLOUD</td>\n",
       "      <td>LPCLOUD</td>\n",
       "      <td>application/echo10+xml</td>\n",
       "      <td>2024-05-16T08:58:01.379Z</td>\n",
       "      <td>2024-05-14T02:37:16.358Z</td>\n",
       "      <td>...</td>\n",
       "      <td>HLS Sentinel-2 Multi-spectral Instrument Surfa...</td>\n",
       "      <td>[{'URL': 'https://data.lpdaac.earthdatacloud.n...</td>\n",
       "      <td>Day</td>\n",
       "      <td>[{'Identifier': 'HLS.S30.T51SXB.2024135T022529...</td>\n",
       "      <td>2024-05-16T08:55:08.000Z</td>\n",
       "      <td>[{'Name': 'Not provided', 'SizeInBytes': 16843...</td>\n",
       "      <td>[{'ShortName': 'Sentinel-2B', 'Instruments': [...</td>\n",
       "      <td>https://cdn.earthdata.nasa.gov/umm/granule/v1.6.6</td>\n",
       "      <td>UMM-G</td>\n",
       "      <td>1.6.6</td>\n",
       "    </tr>\n",
       "    <tr>\n",
       "      <th>3</th>\n",
       "      <td>128.251033</td>\n",
       "      <td>granule</td>\n",
       "      <td>G3014314338-LPCLOUD</td>\n",
       "      <td>1</td>\n",
       "      <td>HLS.L30.T51SXB.2024137T021621.v2.0</td>\n",
       "      <td>C2021957657-LPCLOUD</td>\n",
       "      <td>LPCLOUD</td>\n",
       "      <td>application/echo10+xml</td>\n",
       "      <td>2024-05-18T07:23:06.795Z</td>\n",
       "      <td>2024-05-16T02:16:21.112Z</td>\n",
       "      <td>...</td>\n",
       "      <td>HLS Landsat Operational Land Imager Surface Re...</td>\n",
       "      <td>[{'URL': 'https://data.lpdaac.earthdatacloud.n...</td>\n",
       "      <td>Day</td>\n",
       "      <td>[{'Identifier': 'HLS.L30.T51SXB.2024137T021621...</td>\n",
       "      <td>2024-05-18T07:19:14.000Z</td>\n",
       "      <td>[{'Name': 'Not provided', 'SizeInBytes': 13448...</td>\n",
       "      <td>[{'ShortName': 'LANDSAT-8', 'Instruments': [{'...</td>\n",
       "      <td>https://cdn.earthdata.nasa.gov/umm/granule/v1.6.6</td>\n",
       "      <td>UMM-G</td>\n",
       "      <td>1.6.6</td>\n",
       "    </tr>\n",
       "    <tr>\n",
       "      <th>4</th>\n",
       "      <td>176.168429</td>\n",
       "      <td>granule</td>\n",
       "      <td>G3022947928-LPCLOUD</td>\n",
       "      <td>1</td>\n",
       "      <td>HLS.S30.T51SXB.2024140T022531.v2.0</td>\n",
       "      <td>C2021957295-LPCLOUD</td>\n",
       "      <td>LPCLOUD</td>\n",
       "      <td>application/echo10+xml</td>\n",
       "      <td>2024-05-21T13:37:14.768Z</td>\n",
       "      <td>2024-05-19T02:37:18.636Z</td>\n",
       "      <td>...</td>\n",
       "      <td>HLS Sentinel-2 Multi-spectral Instrument Surfa...</td>\n",
       "      <td>[{'URL': 'https://data.lpdaac.earthdatacloud.n...</td>\n",
       "      <td>Day</td>\n",
       "      <td>[{'Identifier': 'HLS.S30.T51SXB.2024140T022531...</td>\n",
       "      <td>2024-05-21T13:34:58.000Z</td>\n",
       "      <td>[{'Name': 'Not provided', 'SizeInBytes': 18472...</td>\n",
       "      <td>[{'ShortName': 'Sentinel-2A', 'Instruments': [...</td>\n",
       "      <td>https://cdn.earthdata.nasa.gov/umm/granule/v1.6.6</td>\n",
       "      <td>UMM-G</td>\n",
       "      <td>1.6.6</td>\n",
       "    </tr>\n",
       "  </tbody>\n",
       "</table>\n",
       "<p>5 rows × 25 columns</p>\n",
       "</div>"
      ],
      "text/plain": [
       "         size meta.concept-type      meta.concept-id  meta.revision-id  \\\n",
       "0  157.224716           granule  G2991239576-LPCLOUD                 1   \n",
       "1  154.965186           granule  G2995057181-LPCLOUD                 1   \n",
       "2  160.627707           granule  G3008961922-LPCLOUD                 1   \n",
       "3  128.251033           granule  G3014314338-LPCLOUD                 1   \n",
       "4  176.168429           granule  G3022947928-LPCLOUD                 1   \n",
       "\n",
       "                       meta.native-id meta.collection-concept-id  \\\n",
       "0  HLS.L30.T51SXB.2024129T021650.v2.0        C2021957657-LPCLOUD   \n",
       "1  HLS.S30.T51SXB.2024130T022551.v2.0        C2021957295-LPCLOUD   \n",
       "2  HLS.S30.T51SXB.2024135T022529.v2.0        C2021957295-LPCLOUD   \n",
       "3  HLS.L30.T51SXB.2024137T021621.v2.0        C2021957657-LPCLOUD   \n",
       "4  HLS.S30.T51SXB.2024140T022531.v2.0        C2021957295-LPCLOUD   \n",
       "\n",
       "  meta.provider-id             meta.format        meta.revision-date  \\\n",
       "0          LPCLOUD  application/echo10+xml  2024-05-10T07:24:06.306Z   \n",
       "1          LPCLOUD  application/echo10+xml  2024-05-11T07:32:05.234Z   \n",
       "2          LPCLOUD  application/echo10+xml  2024-05-16T08:58:01.379Z   \n",
       "3          LPCLOUD  application/echo10+xml  2024-05-18T07:23:06.795Z   \n",
       "4          LPCLOUD  application/echo10+xml  2024-05-21T13:37:14.768Z   \n",
       "\n",
       "  umm.TemporalExtent.RangeDateTime.BeginningDateTime  ...  \\\n",
       "0                           2024-05-08T02:16:50.544Z  ...   \n",
       "1                           2024-05-09T02:37:19.606Z  ...   \n",
       "2                           2024-05-14T02:37:16.358Z  ...   \n",
       "3                           2024-05-16T02:16:21.112Z  ...   \n",
       "4                           2024-05-19T02:37:18.636Z  ...   \n",
       "\n",
       "                  umm.CollectionReference.EntryTitle  \\\n",
       "0  HLS Landsat Operational Land Imager Surface Re...   \n",
       "1  HLS Sentinel-2 Multi-spectral Instrument Surfa...   \n",
       "2  HLS Sentinel-2 Multi-spectral Instrument Surfa...   \n",
       "3  HLS Landsat Operational Land Imager Surface Re...   \n",
       "4  HLS Sentinel-2 Multi-spectral Instrument Surfa...   \n",
       "\n",
       "                                     umm.RelatedUrls  \\\n",
       "0  [{'URL': 'https://data.lpdaac.earthdatacloud.n...   \n",
       "1  [{'URL': 'https://data.lpdaac.earthdatacloud.n...   \n",
       "2  [{'URL': 'https://data.lpdaac.earthdatacloud.n...   \n",
       "3  [{'URL': 'https://data.lpdaac.earthdatacloud.n...   \n",
       "4  [{'URL': 'https://data.lpdaac.earthdatacloud.n...   \n",
       "\n",
       "  umm.DataGranule.DayNightFlag  \\\n",
       "0                          Day   \n",
       "1                          Day   \n",
       "2                          Day   \n",
       "3                          Day   \n",
       "4                          Day   \n",
       "\n",
       "                         umm.DataGranule.Identifiers  \\\n",
       "0  [{'Identifier': 'HLS.L30.T51SXB.2024129T021650...   \n",
       "1  [{'Identifier': 'HLS.S30.T51SXB.2024130T022551...   \n",
       "2  [{'Identifier': 'HLS.S30.T51SXB.2024135T022529...   \n",
       "3  [{'Identifier': 'HLS.L30.T51SXB.2024137T021621...   \n",
       "4  [{'Identifier': 'HLS.S30.T51SXB.2024140T022531...   \n",
       "\n",
       "  umm.DataGranule.ProductionDateTime  \\\n",
       "0           2024-05-10T07:19:37.000Z   \n",
       "1           2024-05-11T07:27:07.000Z   \n",
       "2           2024-05-16T08:55:08.000Z   \n",
       "3           2024-05-18T07:19:14.000Z   \n",
       "4           2024-05-21T13:34:58.000Z   \n",
       "\n",
       "   umm.DataGranule.ArchiveAndDistributionInformation  \\\n",
       "0  [{'Name': 'Not provided', 'SizeInBytes': 16486...   \n",
       "1  [{'Name': 'Not provided', 'SizeInBytes': 16249...   \n",
       "2  [{'Name': 'Not provided', 'SizeInBytes': 16843...   \n",
       "3  [{'Name': 'Not provided', 'SizeInBytes': 13448...   \n",
       "4  [{'Name': 'Not provided', 'SizeInBytes': 18472...   \n",
       "\n",
       "                                       umm.Platforms  \\\n",
       "0  [{'ShortName': 'LANDSAT-9', 'Instruments': [{'...   \n",
       "1  [{'ShortName': 'Sentinel-2A', 'Instruments': [...   \n",
       "2  [{'ShortName': 'Sentinel-2B', 'Instruments': [...   \n",
       "3  [{'ShortName': 'LANDSAT-8', 'Instruments': [{'...   \n",
       "4  [{'ShortName': 'Sentinel-2A', 'Instruments': [...   \n",
       "\n",
       "                       umm.MetadataSpecification.URL  \\\n",
       "0  https://cdn.earthdata.nasa.gov/umm/granule/v1.6.6   \n",
       "1  https://cdn.earthdata.nasa.gov/umm/granule/v1.6.6   \n",
       "2  https://cdn.earthdata.nasa.gov/umm/granule/v1.6.6   \n",
       "3  https://cdn.earthdata.nasa.gov/umm/granule/v1.6.6   \n",
       "4  https://cdn.earthdata.nasa.gov/umm/granule/v1.6.6   \n",
       "\n",
       "  umm.MetadataSpecification.Name umm.MetadataSpecification.Version  \n",
       "0                          UMM-G                             1.6.6  \n",
       "1                          UMM-G                             1.6.6  \n",
       "2                          UMM-G                             1.6.6  \n",
       "3                          UMM-G                             1.6.6  \n",
       "4                          UMM-G                             1.6.6  \n",
       "\n",
       "[5 rows x 25 columns]"
      ]
     },
     "execution_count": 129,
     "metadata": {},
     "output_type": "execute_result"
    }
   ],
   "source": [
    "pd.json_normalize(results).head(5)"
   ]
  },
  {
   "cell_type": "code",
   "execution_count": 12,
   "id": "77f56937-be67-43cf-88bb-c12869915b3c",
   "metadata": {
    "editable": true,
    "slideshow": {
     "slide_type": ""
    },
    "tags": []
   },
   "outputs": [
    {
     "data": {
      "text/plain": [
       "549"
      ]
     },
     "execution_count": 12,
     "metadata": {},
     "output_type": "execute_result"
    }
   ],
   "source": [
    "len(results)"
   ]
  },
  {
   "cell_type": "code",
   "execution_count": 133,
   "id": "b8bf6739-c019-4fd2-b513-93811d3a1ff0",
   "metadata": {},
   "outputs": [],
   "source": [
    "hls_results_urls = [granule.data_links() for granule in results]"
   ]
  },
  {
   "cell_type": "code",
   "execution_count": 13,
   "id": "950e7541-c55e-4fe9-a76a-dd21dd4f3bc2",
   "metadata": {},
   "outputs": [],
   "source": [
    "# GDAL configurations used to successfully access LP DAAC Cloud Assets via vsicurl \n",
    "gdal.SetConfigOption('GDAL_HTTP_COOKIEFILE','~/cookies.txt')\n",
    "gdal.SetConfigOption('GDAL_HTTP_COOKIEJAR', '~/cookies.txt')\n",
    "gdal.SetConfigOption('GDAL_DISABLE_READDIR_ON_OPEN','EMPTY_DIR')\n",
    "gdal.SetConfigOption('CPL_VSIL_CURL_ALLOWED_EXTENSIONS','TIF')\n",
    "gdal.SetConfigOption('GDAL_HTTP_UNSAFESSL', 'YES')"
   ]
  },
  {
   "cell_type": "code",
   "execution_count": 130,
   "id": "9fee9108-f2b3-4055-9584-fa281409d878",
   "metadata": {
    "editable": true,
    "slideshow": {
     "slide_type": ""
    },
    "tags": []
   },
   "outputs": [],
   "source": [
    "f_value = [0,4,16,20,32,36,48,52,64,68,80,84,96,100,112,116,128,132,144,148,160,164,176,180,192,196,208,212,224,228,240,244]"
   ]
  },
  {
   "cell_type": "code",
   "execution_count": 131,
   "id": "b2def9d0-7c73-43e5-924d-f62884e45e0b",
   "metadata": {
    "editable": true,
    "slideshow": {
     "slide_type": ""
    },
    "tags": []
   },
   "outputs": [],
   "source": [
    "def filter_fmask(fmask, f_values):\n",
    "    # Filter based on the fmask values in f_values\n",
    "    mask = np.isin(fmask.data, f_values)\n",
    "    \n",
    "    # Apply the mask to the fmask, keeping only the values that are in f_values\n",
    "    filtered_fmask = xr.where(mask, fmask, np.nan, keep_attrs=True)\n",
    "    filtered_fmask = filtered_fmask.astype('uint8')\n",
    "    \n",
    "    return filtered_fmask"
   ]
  },
  {
   "cell_type": "code",
   "execution_count": 132,
   "id": "7c697d29-566e-485d-a12a-2cf2549e6fae",
   "metadata": {
    "editable": true,
    "slideshow": {
     "slide_type": ""
    },
    "tags": []
   },
   "outputs": [],
   "source": [
    "import logging\n",
    "import os\n",
    "from rasterio.errors import RasterioIOError  # RasterioIOError 추가"
   ]
  },
  {
   "cell_type": "code",
   "execution_count": null,
   "id": "0a27a0e5-b35a-4ca7-8ba0-7443484366b8",
   "metadata": {
    "editable": true,
    "slideshow": {
     "slide_type": ""
    },
    "tags": []
   },
   "outputs": [
    {
     "name": "stderr",
     "output_type": "stream",
     "text": [
      "Processing files:   0%|                                                          | 1/549 [02:56<26:52:05, 176.51s/file]"
     ]
    },
    {
     "name": "stdout",
     "output_type": "stream",
     "text": [
      "Processed file 1 of 549\n"
     ]
    },
    {
     "name": "stderr",
     "output_type": "stream",
     "text": [
      "Processing files:   0%|▏                                                         | 2/549 [06:52<32:07:38, 211.44s/file]"
     ]
    },
    {
     "name": "stdout",
     "output_type": "stream",
     "text": [
      "Processed file 2 of 549\n"
     ]
    },
    {
     "name": "stderr",
     "output_type": "stream",
     "text": [
      "Processing files:   1%|▎                                                         | 3/549 [10:50<33:53:22, 223.45s/file]"
     ]
    },
    {
     "name": "stdout",
     "output_type": "stream",
     "text": [
      "Processed file 3 of 549\n"
     ]
    },
    {
     "name": "stderr",
     "output_type": "stream",
     "text": [
      "Processing files:   1%|▍                                                         | 4/549 [14:43<34:26:12, 227.47s/file]"
     ]
    },
    {
     "name": "stdout",
     "output_type": "stream",
     "text": [
      "Processed file 4 of 549\n"
     ]
    },
    {
     "name": "stderr",
     "output_type": "stream",
     "text": [
      "Processing files:   1%|▌                                                         | 5/549 [18:34<34:32:45, 228.61s/file]"
     ]
    },
    {
     "name": "stdout",
     "output_type": "stream",
     "text": [
      "Processed file 5 of 549\n"
     ]
    },
    {
     "name": "stderr",
     "output_type": "stream",
     "text": [
      "Processing files:   1%|▋                                                         | 6/549 [22:23<34:30:14, 228.76s/file]"
     ]
    },
    {
     "name": "stdout",
     "output_type": "stream",
     "text": [
      "Processed file 6 of 549\n"
     ]
    },
    {
     "name": "stderr",
     "output_type": "stream",
     "text": [
      "Processing files:   1%|▋                                                         | 7/549 [26:17<34:42:10, 230.50s/file]"
     ]
    },
    {
     "name": "stdout",
     "output_type": "stream",
     "text": [
      "Processed file 7 of 549\n"
     ]
    },
    {
     "name": "stderr",
     "output_type": "stream",
     "text": [
      "Processing files:   1%|▊                                                         | 8/549 [30:13<34:53:18, 232.16s/file]"
     ]
    },
    {
     "name": "stdout",
     "output_type": "stream",
     "text": [
      "Processed file 8 of 549\n"
     ]
    },
    {
     "name": "stderr",
     "output_type": "stream",
     "text": [
      "Processing files:   2%|▉                                                         | 9/549 [33:37<33:31:44, 223.53s/file]"
     ]
    },
    {
     "name": "stdout",
     "output_type": "stream",
     "text": [
      "Processed file 9 of 549\n"
     ]
    },
    {
     "name": "stderr",
     "output_type": "stream",
     "text": [
      "Processing files:   2%|█                                                        | 10/549 [36:47<31:54:03, 213.07s/file]"
     ]
    },
    {
     "name": "stdout",
     "output_type": "stream",
     "text": [
      "Processed file 10 of 549\n"
     ]
    },
    {
     "name": "stderr",
     "output_type": "stream",
     "text": [
      "Processing files:   2%|█▏                                                       | 11/549 [40:28<32:13:41, 215.65s/file]"
     ]
    },
    {
     "name": "stdout",
     "output_type": "stream",
     "text": [
      "Processed file 11 of 549\n"
     ]
    }
   ],
   "source": [
    "from tqdm import tqdm  # TQDM 라이브러리 추가\n",
    "\n",
    "# tqdm을 사용하여 파일 처리 진행 상황 표시\n",
    "for j, h in enumerate(tqdm(hls_results_urls, desc=\"Processing files\", unit=\"file\")):\n",
    "    \n",
    "    outName1 = h[0].split('/')[-1].split('v2.0')[0] +'v2.0_cropped.tif'\n",
    "\n",
    "    # 밴드 정보 설정\n",
    "    if h[0].split('/')[4] == 'HLSS30.020':\n",
    "        bands = ['B02', 'B03', 'B04', 'B8A', 'B11', 'B12','Fmask']  # All band for S30\n",
    "    else:\n",
    "        bands = ['B02', 'B03', 'B04', 'B05', 'B06', 'B07','Fmask']  # All band for L30\n",
    "\n",
    "    # 밴드 링크 추출\n",
    "    band_links = [a for a in h if any(b in a for b in bands)]\n",
    "    \n",
    "    if os.path.exists(f'G:/2024_활동지도/mask/{year}_indices/{outName1}'):\n",
    "        print(f\"{outName1} has already been processed and is available in this directory, moving to next file.\")\n",
    "        continue    \n",
    "\n",
    "    try:\n",
    "        # Dataset 생성\n",
    "        ds_dict = {}\n",
    "        \n",
    "        for band in bands:\n",
    "            b_links = [l for l in band_links if band in l]\n",
    "            chunks = dict(band=1, x=1830, y=1830)\n",
    "            da_list = [rioxarray.open_rasterio(url, chunks=chunks) for url in b_links]\n",
    "            da = xr.concat(da_list, dim='band', join='override', combine_attrs='drop')\n",
    "            ds_dict[band] = da\n",
    "        \n",
    "        ds = xr.Dataset(ds_dict)\n",
    "\n",
    "        # Fmask 필터 적용\n",
    "        fmask_filtered = filter_fmask(ds.Fmask, f_value)\n",
    "        ds_filtered = xr.where(fmask_filtered, ds, np.nan, keep_attrs=True)\n",
    "\n",
    "        # 좌표계 변환 및 클리핑\n",
    "        fsUTM = field.to_crs(ds_filtered.B02.spatial_ref.crs_wkt)\n",
    "        ds_filtered1 = ds_filtered.rio.clip(fsUTM.geometry.values, fsUTM.crs, all_touched=True)\n",
    "        ds_filtered1 = ds_filtered1.drop_vars('Fmask')\n",
    "\n",
    "        # 스케일링 적용\n",
    "        scaling_factor = 0.0001\n",
    "        ds_scaled = ds_filtered1 * scaling_factor\n",
    "\n",
    "        # 파일 저장\n",
    "        ds_scaled.isel(band=0).rio.to_raster(raster_path=f'G:/2024_활동지도/mask/{year}_indices/{outName1}', driver='COG', compression='LZ77')\n",
    "\n",
    "        print(f\"Processed file {j+1} of {len(hls_results_urls)}\")\n",
    "    \n",
    "    except Exception as e:\n",
    "        print(f\"Error processing file {outName1}: {e}\")\n",
    "        continue\n"
   ]
  },
  {
   "cell_type": "code",
   "execution_count": null,
   "id": "583da450-c666-4fcb-8c29-7ee30c4177ad",
   "metadata": {
    "editable": true,
    "slideshow": {
     "slide_type": ""
    },
    "tags": []
   },
   "outputs": [],
   "source": []
  },
  {
   "cell_type": "code",
   "execution_count": null,
   "id": "66bb43e2-39b5-4fae-9cac-b502080dc215",
   "metadata": {
    "editable": true,
    "slideshow": {
     "slide_type": ""
    },
    "tags": []
   },
   "outputs": [],
   "source": []
  },
  {
   "cell_type": "code",
   "execution_count": null,
   "id": "1942d917-5e48-4696-b1c0-721754b4e986",
   "metadata": {
    "editable": true,
    "slideshow": {
     "slide_type": ""
    },
    "tags": []
   },
   "outputs": [],
   "source": []
  },
  {
   "cell_type": "code",
   "execution_count": null,
   "id": "19e55a0b-00c3-44a9-9650-cb6a50a17f53",
   "metadata": {},
   "outputs": [],
   "source": []
  }
 ],
 "metadata": {
  "kernelspec": {
   "display_name": "hls",
   "language": "python",
   "name": "hls"
  },
  "language_info": {
   "codemirror_mode": {
    "name": "ipython",
    "version": 3
   },
   "file_extension": ".py",
   "mimetype": "text/x-python",
   "name": "python",
   "nbconvert_exporter": "python",
   "pygments_lexer": "ipython3",
   "version": "3.10.14"
  }
 },
 "nbformat": 4,
 "nbformat_minor": 5
}
